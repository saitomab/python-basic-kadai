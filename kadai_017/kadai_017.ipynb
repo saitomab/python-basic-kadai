{
  "nbformat": 4,
  "nbformat_minor": 0,
  "metadata": {
    "colab": {
      "provenance": []
    },
    "kernelspec": {
      "name": "python3",
      "display_name": "Python 3"
    },
    "language_info": {
      "name": "python"
    }
  },
  "cells": [
    {
      "cell_type": "code",
      "execution_count": 21,
      "metadata": {
        "colab": {
          "base_uri": "https://localhost:8080/"
        },
        "id": "lkBYypclUw-7",
        "outputId": "45b5eef8-8a3a-4bbd-d09c-cf258f963aef"
      },
      "outputs": [
        {
          "output_type": "stream",
          "name": "stdout",
          "text": [
            "侍太郎さんは大人です。\n",
            "侍二郎さんは大人です。\n",
            "侍三郎さんは大人です。\n",
            "侍四郎くんは大人ではありません。\n",
            "侍五郎くんは大人ではありません。\n"
          ]
        }
      ],
      "source": [
        "# クラスを定義\n",
        "class Human:\n",
        "  def __init__(self, name:str, age:int):\n",
        "    self.name = name\n",
        "    self.age = age\n",
        "  def check_adult(self):\n",
        "    if self.age < 20:\n",
        "      print(f\"{self.name}くんは大人ではありません。\")\n",
        "    else:\n",
        "      print(f\"{self.name}さんは大人です。\")\n",
        "\n",
        "# 入力データを連想配列で作成\n",
        "users = {\"侍太郎\": 36, \"侍二郎\": 30, \"侍三郎\": 24, \"侍四郎\": 18, \"侍五郎\": 12 }\n",
        "\n",
        "# 空のリストを作成（インスタンス格納用）\n",
        "humans = []\n",
        "\n",
        "# クラスからインスタンスを生成し、リストに格納\n",
        "for key, value in users.items():\n",
        "  humans.append(Human(key, value))\n",
        "\n",
        "# リストからインスタンスを取り出し、メソッドを実行\n",
        "i = 0\n",
        "while i < 5:\n",
        "  humans[i].check_adult()\n",
        "  i = i + 1\n"
      ]
    }
  ]
}