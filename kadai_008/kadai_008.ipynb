{
  "nbformat": 4,
  "nbformat_minor": 0,
  "metadata": {
    "colab": {
      "provenance": []
    },
    "kernelspec": {
      "name": "python3",
      "display_name": "Python 3"
    },
    "language_info": {
      "name": "python"
    }
  },
  "cells": [
    {
      "cell_type": "code",
      "execution_count": 14,
      "metadata": {
        "colab": {
          "base_uri": "https://localhost:8080/"
        },
        "id": "R0wWrwfMWkoK",
        "outputId": "533c8a58-89b3-428b-ef1f-228912d13a5c"
      },
      "outputs": [
        {
          "output_type": "stream",
          "name": "stdout",
          "text": [
            "var=27\n",
            "Fizz\n"
          ]
        }
      ],
      "source": [
        "import random\n",
        "var = random.randint(1, 100)\n",
        "print(\"var=\"+str(var))\n",
        "chk_fizz = var % 3\n",
        "chk_buzz = var % 5\n",
        "if chk_fizz == 0 and chk_buzz == 0:\n",
        "  print(\"FizzBuzz\")\n",
        "elif chk_fizz == 0:\n",
        "  print(\"Fizz\")\n",
        "elif chk_buzz == 0:\n",
        "  print(\"Buzz\")\n",
        "else:\n",
        "  print(var)"
      ]
    }
  ]
}