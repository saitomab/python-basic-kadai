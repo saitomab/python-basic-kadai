{
  "nbformat": 4,
  "nbformat_minor": 0,
  "metadata": {
    "colab": {
      "provenance": []
    },
    "kernelspec": {
      "name": "python3",
      "display_name": "Python 3"
    },
    "language_info": {
      "name": "python"
    }
  },
  "cells": [
    {
      "cell_type": "code",
      "execution_count": 4,
      "metadata": {
        "colab": {
          "base_uri": "https://localhost:8080/"
        },
        "id": "xmzNksnR_2rz",
        "outputId": "16eaa953-5997-4001-f74c-4e087604e5ea"
      },
      "outputs": [
        {
          "output_type": "stream",
          "name": "stdout",
          "text": [
            "1430.0円\n"
          ]
        }
      ],
      "source": [
        "def calclation_tax(price: int, tax: int) -> float:\n",
        "  total = price + (price / 100 * tax)\n",
        "  return total\n",
        "\n",
        "print(f\"{calclation_tax(1300,10)}円\")\n"
      ]
    }
  ]
}